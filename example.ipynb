{
 "cells": [
  {
   "cell_type": "markdown",
   "metadata": {},
   "source": [
    "## Dsen2cr implementation"
   ]
  },
  {
   "cell_type": "code",
   "execution_count": null,
   "metadata": {},
   "outputs": [],
   "source": [
    "import keras.backend as K\n",
    "import tensorflow as tf\n",
    "from keras.layers import Conv2D, Concatenate, Activation, Lambda, Add\n",
    "from keras.models import Model, Input\n",
    "\n",
    "\n",
    "K.set_image_data_format('channels_first')\n",
    "\n",
    "\n",
    "def resBlock(input_l, feature_size, kernel_size, scale=0.1):\n",
    "    \"\"\"Definition of Residual Block to be repeated in body of network.\"\"\"\n",
    "    tmp = Conv2D(feature_size, kernel_size, kernel_initializer='he_uniform', padding='same')(input_l)\n",
    "    tmp = Activation('relu')(tmp)\n",
    "    tmp = Conv2D(feature_size, kernel_size, kernel_initializer='he_uniform', padding='same')(tmp)\n",
    "\n",
    "    tmp = Lambda(lambda x: x * scale)(tmp)\n",
    "\n",
    "    return Add()([input_l, tmp])\n",
    "\n",
    "\n",
    "input_shape = ((13, 256, 256), (2, 256, 256))\n",
    "batch_per_gpu=1\n",
    "num_layers=16\n",
    "feature_size=256\n",
    "use_cloud_mask=False,\n",
    "include_sar_input=True\n",
    "\"\"\"Definition of network structure. \"\"\"\n",
    "\n",
    "\n",
    "# define dimensions\n",
    "input_opt = Input(shape=input_shape[0])\n",
    "input_sar = Input(shape=input_shape[1])\n",
    "\n",
    "if include_sar_input:\n",
    "    x = Concatenate(axis=1)([input_opt, input_sar])\n",
    "else:\n",
    "    x = input_opt\n",
    "\n",
    "# Treat the concatenation\n",
    "x = Conv2D(feature_size, (3, 3), kernel_initializer='he_uniform', padding='same')(x)\n",
    "x = Activation('relu')(x)\n",
    "\n",
    "# main body of network as succession of resblocks\n",
    "for i in range(num_layers):\n",
    "    x = resBlock(x, feature_size, kernel_size=[3, 3])\n",
    "\n",
    "# One more convolution\n",
    "x = Conv2D(input_shape[0][0], (3, 3), kernel_initializer='he_uniform', padding='same')(x)\n",
    "\n",
    "# Add first layer (long skip connection)\n",
    "x = Add()([x, input_opt])\n",
    "\n",
    "#if use_cloud_mask:\n",
    "    # the hacky trick with global variables and with lambda functions is needed to avoid errors when\n",
    "    # pickle saving the model. Tensors are not pickable.\n",
    "    # This way, the Lambda function has no special arguments and is \"encapsulated\"\n",
    "\n",
    "#    shape_n = tf.shape(input_opt)\n",
    "\n",
    "#    def concatenate_array(x):\n",
    "#        cc = K.concatenate([x, K.zeros(shape=(batch_per_gpu, 1, shape_n[2], shape_n[3]))], axis=1)\n",
    "#        return cc\n",
    "    \n",
    "#    x = Concatenate(axis=1)([x, input_opt])\n",
    "\n",
    "#    x = Lambda(concatenate_array)(x)"
   ]
  },
  {
   "cell_type": "markdown",
   "metadata": {},
   "source": [
    "## Download the weights file from the official Github repo"
   ]
  },
  {
   "cell_type": "code",
   "execution_count": null,
   "metadata": {},
   "outputs": [],
   "source": [
    "model = Model(inputs=[input_opt, input_sar], outputs=x)\n",
    "\n",
    "model.load_weights('model_SARcarl.hdf5')"
   ]
  },
  {
   "cell_type": "code",
   "execution_count": null,
   "metadata": {},
   "outputs": [],
   "source": [
    "opt = np.load('data/cloudy/example.npz')['arr_0']\n",
    "sar = np.load('data/s1/example.npz')['arr_0']\n",
    "\n",
    "opt = np.expand_dims(opt, axis=0)\n",
    "sar = np.expand_dims(sar, axis=0)\n",
    "\n",
    "out = model.predict([opt, sar])"
   ]
  },
  {
   "cell_type": "code",
   "execution_count": null,
   "metadata": {},
   "outputs": [],
   "source": []
  }
 ],
 "metadata": {
  "kernelspec": {
   "display_name": "Python 3",
   "language": "python",
   "name": "python3"
  },
  "language_info": {
   "codemirror_mode": {
    "name": "ipython",
    "version": 3
   },
   "file_extension": ".py",
   "mimetype": "text/x-python",
   "name": "python",
   "nbconvert_exporter": "python",
   "pygments_lexer": "ipython3",
   "version": "3.5.4"
  }
 },
 "nbformat": 4,
 "nbformat_minor": 5
}
